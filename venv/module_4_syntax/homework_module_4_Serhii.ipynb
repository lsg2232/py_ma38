{
 "cells": [
  {
   "cell_type": "markdown",
   "metadata": {},
   "source": [
    "### 1"
   ]
  },
  {
   "cell_type": "code",
   "execution_count": 6,
   "metadata": {},
   "outputs": [],
   "source": [
    "arr = list(range(100))\n",
    "only_even_arr = [x for x in arr if x % 2 == 0]\n",
    "# Use `list comprehension` for filling `only_even_arr` list.\n",
    "# Add only even number from `arr`"
   ]
  },
  {
   "cell_type": "code",
   "execution_count": 7,
   "metadata": {
    "scrolled": true
   },
   "outputs": [
    {
     "name": "stdout",
     "output_type": "stream",
     "text": [
      "[0, 2, 4, 6, 8, 10, 12, 14, 16, 18, 20, 22, 24, 26, 28, 30, 32, 34, 36, 38, 40, 42, 44, 46, 48, 50, 52, 54, 56, 58, 60, 62, 64, 66, 68, 70, 72, 74, 76, 78, 80, 82, 84, 86, 88, 90, 92, 94, 96, 98]\n"
     ]
    }
   ],
   "source": [
    "print(only_even_arr)"
   ]
  },
  {
   "cell_type": "markdown",
   "metadata": {},
   "source": [
    "### 2"
   ]
  },
  {
   "cell_type": "code",
   "execution_count": 24,
   "metadata": {},
   "outputs": [
    {
     "name": "stdout",
     "output_type": "stream",
     "text": [
      "0\t0\t0\t0\t0\t0\t0\t0\t0\t0\t\n",
      "0\t1\t2\t3\t4\t5\t6\t7\t8\t9\t\n",
      "0\t2\t4\t6\t8\t10\t12\t14\t16\t18\t\n",
      "0\t3\t6\t9\t12\t15\t18\t21\t24\t27\t\n",
      "0\t4\t8\t12\t16\t20\t24\t28\t32\t36\t\n",
      "0\t5\t10\t15\t20\t25\t30\t35\t40\t45\t\n",
      "0\t6\t12\t18\t24\t30\t36\t42\t48\t54\t\n",
      "0\t7\t14\t21\t28\t35\t42\t49\t56\t63\t\n",
      "0\t8\t16\t24\t32\t40\t48\t56\t64\t72\t\n",
      "0\t9\t18\t27\t36\t45\t54\t63\t72\t81\t\n"
     ]
    }
   ],
   "source": [
    "# Display a multiplication table that shows\n",
    "# the products of all combinations of integers\n",
    "# from 1 times 1 up to and including 10 times 10\n",
    "\n",
    "ranged_list = list(range(0,10))  # produce numbers from 0 to 10\n",
    "\n",
    "for row in ranged_list:\n",
    "    for col in ranged_list:\n",
    "        # some print here\n",
    "        print(row * col, end='\\t')\n",
    "    print()\n",
    "        #pass\n",
    "    # and print here"
   ]
  },
  {
   "cell_type": "markdown",
   "metadata": {},
   "source": [
    "### 3"
   ]
  },
  {
   "cell_type": "code",
   "execution_count": 8,
   "metadata": {},
   "outputs": [
    {
     "name": "stdout",
     "output_type": "stream",
     "text": [
      "[87, 74, 70, 54, 23, 18, 19, 1, 11, 22, 62, 44, 81, 40, 42, 49, 27, 66, 3, 16, 5, 8, 32, 63, 15, 96, 39, 98, 31, 59, 89, 72, 34, 21, 91, 29, 95, 85, 13, 94, 6, 80, 47, 48, 41, 76, 30, 75, 88, 60, 93, 67, 28, 61, 83, 7, 65, 73, 20, 43, 69, 52, 100, 57, 99, 4, 33, 82, 17, 86, 77, 56, 45, 71, 10, 97, 2, 64, 51, 84, 50, 68, 55, 78, 36, 38, 46, 12, 92, 35, 79, 25, 90, 58, 53, 26, 24, 37, 9, 14]\n",
      "87 <= Update\n",
      "74\n",
      "70\n",
      "54\n",
      "23\n",
      "18\n",
      "19\n",
      "1\n",
      "11\n",
      "22\n",
      "62\n",
      "44\n",
      "81\n",
      "40\n",
      "42\n",
      "49\n",
      "27\n",
      "66\n",
      "3\n",
      "16\n",
      "5\n",
      "8\n",
      "32\n",
      "63\n",
      "15\n",
      "96 <= Update\n",
      "39\n",
      "98 <= Update\n",
      "31\n",
      "59\n",
      "89\n",
      "72\n",
      "34\n",
      "21\n",
      "91\n",
      "29\n",
      "95\n",
      "85\n",
      "13\n",
      "94\n",
      "6\n",
      "80\n",
      "47\n",
      "48\n",
      "41\n",
      "76\n",
      "30\n",
      "75\n",
      "88\n",
      "60\n",
      "93\n",
      "67\n",
      "28\n",
      "61\n",
      "83\n",
      "7\n",
      "65\n",
      "73\n",
      "20\n",
      "43\n",
      "69\n",
      "52\n",
      "100 <= Update\n",
      "57\n",
      "99\n",
      "4\n",
      "33\n",
      "82\n",
      "17\n",
      "86\n",
      "77\n",
      "56\n",
      "45\n",
      "71\n",
      "10\n",
      "97\n",
      "2\n",
      "64\n",
      "51\n",
      "84\n",
      "50\n",
      "68\n",
      "55\n",
      "78\n",
      "36\n",
      "38\n",
      "46\n",
      "12\n",
      "92\n",
      "35\n",
      "79\n",
      "25\n",
      "90\n",
      "58\n",
      "53\n",
      "26\n",
      "24\n",
      "37\n",
      "9\n",
      "14\n",
      "max: 100; update numbers 4\n"
     ]
    }
   ],
   "source": [
    "# # Generate 100 random integers between 1 and 100.\n",
    "# # Check each integer as it is generated to see if\n",
    "# # it is larger than the maximum number encountered so far.\n",
    "# # If larger => print \" <= Update\" next to the generated integer.\n",
    "# # Print the max value and number of updates at the end of output\n",
    "\n",
    "# import random  # use random module to generate pseudorandom value\n",
    "\n",
    "# # try with less value first, then change to 100\n",
    "# volume = 10\n",
    "\n",
    "# arr = []  # use random.sample to generate 100 numbers from 1 to 100 in one row\n",
    "# curr_max = 0  # change this number inside `if`\n",
    "# update_numbers = 0  # add 1 each time when get update\n",
    "\n",
    "# for i in arr:\n",
    "#     if True:  # put here an appropriate condition\n",
    "#         # print and update vars\n",
    "#         pass\n",
    "#     else:\n",
    "#         # just print current number\n",
    "#         pass\n",
    "# print(f\"max: {curr_max}; update numbers {update_numbers}\")\n",
    "import random \n",
    "arr = random.sample(range(1, 101), 100)\n",
    "curr_max = 0  \n",
    "update_numbers = 0\n",
    "print(arr)\n",
    "for i in arr:\n",
    "    if i > curr_max :\n",
    "        print(i, '<= Update')\n",
    "        curr_max = i\n",
    "        update_numbers += 1\n",
    "        \n",
    "    else:\n",
    "        print(i)\n",
    "print(f\"max: {curr_max}; update numbers {update_numbers}\")"
   ]
  },
  {
   "cell_type": "markdown",
   "metadata": {},
   "source": [
    "### 4"
   ]
  },
  {
   "cell_type": "code",
   "execution_count": 28,
   "metadata": {},
   "outputs": [
    {
     "name": "stdout",
     "output_type": "stream",
     "text": [
      "11000000111001\n",
      "11000000111001\n"
     ]
    }
   ],
   "source": [
    "# Convert a decimal (base10) number to binary(base2).\n",
    "# Use the algorithm below\n",
    "\n",
    "# Let q represent the number to convert repeat\n",
    "# Set r equal to the remainder when q is divided by 2\n",
    "# Convert r to a string and add it to the beginning of result\n",
    "# Divide q by 2, discarding any remainder, and store the result back into q\n",
    "# until q is 0\n",
    "\n",
    "base10_var = 12345\n",
    "base2_str = \"{0:b}\".format(base10_var)  # use to check the result\n",
    "\n",
    "base2_var = \"\"  # use this var for keeping the result\n",
    "while base10_var > 0:\n",
    "    base2_var = str(base10_var % 2) + base2_var\n",
    "    base10_var = base10_var // 2\n",
    "\n",
    "# Implement the algorithm here\n",
    "\n",
    "assert str(base2_var) == base2_str\n",
    "print(base2_str)\n",
    "print(base2_var)"
   ]
  },
  {
   "cell_type": "markdown",
   "metadata": {},
   "source": [
    "### 5"
   ]
  },
  {
   "cell_type": "code",
   "execution_count": 26,
   "metadata": {},
   "outputs": [
    {
     "name": "stdout",
     "output_type": "stream",
     "text": [
      "{0: 0, 2: 4, 4: 8, 6: 12, 8: 16, 10: 20, 12: 24, 14: 28, 16: 32, 18: 36, 20: 40, 22: 44, 24: 48, 26: 52, 28: 56, 30: 60, 32: 64, 34: 68, 36: 72, 38: 76, 40: 80, 42: 84, 44: 88, 46: 92, 48: 96}\n"
     ]
    }
   ],
   "source": [
    "d = {i: i * 2 for i in range(50) if i % 2 == 0}\n",
    "print(d)"
   ]
  },
  {
   "cell_type": "code",
   "execution_count": 27,
   "metadata": {},
   "outputs": [
    {
     "name": "stdout",
     "output_type": "stream",
     "text": [
      "the value for key '0' is 0\n",
      "no value KeyError: 1\n",
      "the value for key '2' is 4\n",
      "no value KeyError: 3\n",
      "the value for key '4' is 8\n",
      "no value KeyError: 5\n",
      "the value for key '6' is 12\n",
      "no value KeyError: 7\n",
      "the value for key '8' is 16\n",
      "no value KeyError: 9\n",
      "the value for key '10' is 20\n",
      "no value KeyError: 11\n",
      "the value for key '12' is 24\n",
      "no value KeyError: 13\n",
      "the value for key '14' is 28\n",
      "no value KeyError: 15\n",
      "the value for key '16' is 32\n",
      "no value KeyError: 17\n",
      "the value for key '18' is 36\n",
      "no value KeyError: 19\n",
      "the value for key '20' is 40\n",
      "no value KeyError: 21\n",
      "the value for key '22' is 44\n",
      "no value KeyError: 23\n",
      "the value for key '24' is 48\n",
      "no value KeyError: 25\n",
      "the value for key '26' is 52\n",
      "no value KeyError: 27\n",
      "the value for key '28' is 56\n",
      "no value KeyError: 29\n",
      "the value for key '30' is 60\n",
      "no value KeyError: 31\n",
      "the value for key '32' is 64\n",
      "no value KeyError: 33\n",
      "the value for key '34' is 68\n",
      "no value KeyError: 35\n",
      "the value for key '36' is 72\n",
      "no value KeyError: 37\n",
      "the value for key '38' is 76\n",
      "no value KeyError: 39\n",
      "the value for key '40' is 80\n",
      "no value KeyError: 41\n",
      "the value for key '42' is 84\n",
      "no value KeyError: 43\n",
      "the value for key '44' is 88\n",
      "no value KeyError: 45\n",
      "the value for key '46' is 92\n",
      "no value KeyError: 47\n",
      "the value for key '48' is 96\n",
      "no value KeyError: 49\n"
     ]
    }
   ],
   "source": [
    "# Use try-except block to intercept the error and print \"no value for key {n}\" in this case\n",
    "\n",
    "#for n in range(50):\n",
    "#    print(f\"the value for key '{n}' is {d[n]}\")\n",
    "for n in range(50):\n",
    "    try:\n",
    "        print(f\"the value for key '{n}' is {d[n]}\")\n",
    "    except KeyError as err:\n",
    "        print(f\"no value {err.__class__.__name__}: {err}\")\n"
   ]
  },
  {
   "cell_type": "code",
   "execution_count": null,
   "metadata": {},
   "outputs": [],
   "source": []
  }
 ],
 "metadata": {
  "kernelspec": {
   "display_name": "Python 3 (ipykernel)",
   "language": "python",
   "name": "python3"
  },
  "language_info": {
   "codemirror_mode": {
    "name": "ipython",
    "version": 3
   },
   "file_extension": ".py",
   "mimetype": "text/x-python",
   "name": "python",
   "nbconvert_exporter": "python",
   "pygments_lexer": "ipython3",
   "version": "3.11.4"
  }
 },
 "nbformat": 4,
 "nbformat_minor": 4
}
