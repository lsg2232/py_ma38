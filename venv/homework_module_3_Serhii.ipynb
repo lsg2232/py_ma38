{
 "cells": [
  {
   "cell_type": "markdown",
   "metadata": {},
   "source": [
    "# Data structures"
   ]
  },
  {
   "cell_type": "markdown",
   "metadata": {},
   "source": [
    "### 1"
   ]
  },
  {
   "cell_type": "code",
   "execution_count": 3,
   "metadata": {},
   "outputs": [],
   "source": [
    "a = 12\n",
    "b = 2345"
   ]
  },
  {
   "cell_type": "code",
   "execution_count": 9,
   "metadata": {},
   "outputs": [
    {
     "name": "stdout",
     "output_type": "stream",
     "text": [
      "0.00511727078891258\n",
      "0\n"
     ]
    }
   ],
   "source": [
    "# TODO:\n",
    "float_a_by_b_result = float(a / b) # use float division instead of None\n",
    "int_a_by_b_result = int(a / b)  # use int division instead of None\n",
    "print(float_a_by_b_result)\n",
    "print(int_a_by_b_result)\n"
   ]
  },
  {
   "cell_type": "code",
   "execution_count": 41,
   "metadata": {},
   "outputs": [
    {
     "name": "stdout",
     "output_type": "stream",
     "text": [
      "(True, 'should be 0 here')\n",
      "(True, 'should be about 0.00511')\n"
     ]
    }
   ],
   "source": [
    "w = int_a_by_b_result == 0, \"should be 0 here\"\n",
    "q = (float_a_by_b_result - 0.00511) < 0.00001, \"should be about 0.00511\"\n",
    "print(w)\n",
    "print(q)"
   ]
  },
  {
   "cell_type": "markdown",
   "metadata": {},
   "source": [
    "### 2"
   ]
  },
  {
   "cell_type": "code",
   "execution_count": 15,
   "metadata": {},
   "outputs": [
    {
     "name": "stdout",
     "output_type": "stream",
     "text": [
      "a list with duplicatess: [0, 1, 2, 3, 4, 5, 6, 7, 8, 9, 10, 11, 12, 13, 14, 15, 16, 17, 18, 19, 20, 21, 22, 23, 24, 25, 26, 27, 28, 29, 30, 31, 32, 33, 34, 35, 36, 37, 38, 39, 40, 41, 42, 43, 44, 45, 46, 47, 48, 49, 50, 51, 52, 53, 54, 55, 56, 57, 58, 59, 60, 61, 62, 63, 64, 65, 66, 67, 68, 69, 70, 71, 72, 73, 74, 75, 76, 77, 78, 79, 80, 81, 82, 83, 84, 85, 86, 87, 88, 89, 90, 91, 92, 93, 94, 95, 96, 97, 98, 99, 0, 1, 2, 3, 4, 5, 6, 7, 8, 9, 10, 11, 12, 13, 14, 15, 16, 17, 18, 19, 20, 21, 22, 23, 24, 25, 26, 27, 28, 29, 30, 31, 32, 33, 34, 35, 36, 37, 38, 39, 40, 41, 42, 43, 44, 45, 46, 47, 48, 49]\n"
     ]
    }
   ],
   "source": [
    "ordinary_list = list(range(100)) + list(range(50))\n",
    "print(f\"a list with duplicatess: {ordinary_list}\")"
   ]
  },
  {
   "cell_type": "code",
   "execution_count": 16,
   "metadata": {},
   "outputs": [
    {
     "name": "stdout",
     "output_type": "stream",
     "text": [
      "[0, 1, 2, 3, 4, 5, 6, 7, 8, 9, 10, 11, 12, 13, 14, 15, 16, 17, 18, 19, 20, 21, 22, 23, 24, 25, 26, 27, 28, 29, 30, 31, 32, 33, 34, 35, 36, 37, 38, 39, 40, 41, 42, 43, 44, 45, 46, 47, 48, 49, 50, 51, 52, 53, 54, 55, 56, 57, 58, 59, 60, 61, 62, 63, 64, 65, 66, 67, 68, 69, 70, 71, 72, 73, 74, 75, 76, 77, 78, 79, 80, 81, 82, 83, 84, 85, 86, 87, 88, 89, 90, 91, 92, 93, 94, 95, 96, 97, 98, 99]\n"
     ]
    }
   ],
   "source": [
    "unique_list = list(set(ordinary_list))\n",
    "print(unique_list)   # create a new list with only unique items"
   ]
  },
  {
   "cell_type": "code",
   "execution_count": 38,
   "metadata": {},
   "outputs": [
    {
     "name": "stdout",
     "output_type": "stream",
     "text": [
      "True\n"
     ]
    },
    {
     "data": {
      "text/plain": [
       "(None, 'should be a list with only unique elements')"
      ]
     },
     "execution_count": 38,
     "metadata": {},
     "output_type": "execute_result"
    }
   ],
   "source": [
    "print(unique_list == list(range(100))), \"should be a list with only unique elements\""
   ]
  },
  {
   "cell_type": "markdown",
   "metadata": {},
   "source": [
    "### 3"
   ]
  },
  {
   "cell_type": "code",
   "execution_count": 19,
   "metadata": {},
   "outputs": [],
   "source": [
    "keys = [\"a\", \"b\", \"c\", 4, 5.0]\n",
    "values = [1, 2, 3, \"4\", 5.0]"
   ]
  },
  {
   "cell_type": "code",
   "execution_count": 20,
   "metadata": {},
   "outputs": [
    {
     "name": "stdout",
     "output_type": "stream",
     "text": [
      "{'a': 1, 'b': 2, 'c': 3, 4: '4', 5.0: 5.0}\n"
     ]
    }
   ],
   "source": [
    "d = dict({\"a\": 1, \"b\": 2, \"c\": 3, 4: \"4\", 5.0: 5.0})\n",
    "print(d)# make a dict with keys and values from the list above"
   ]
  },
  {
   "cell_type": "code",
   "execution_count": 21,
   "metadata": {},
   "outputs": [
    {
     "name": "stdout",
     "output_type": "stream",
     "text": [
      "True\n"
     ]
    }
   ],
   "source": [
    "print(d == {\"a\": 1, \"b\": 2, \"c\": 3, 4: \"4\", 5.0: 5.0})"
   ]
  },
  {
   "cell_type": "markdown",
   "metadata": {},
   "source": [
    "### 4"
   ]
  },
  {
   "cell_type": "code",
   "execution_count": 22,
   "metadata": {},
   "outputs": [],
   "source": [
    "a = [1, 2, 3]"
   ]
  },
  {
   "cell_type": "code",
   "execution_count": 28,
   "metadata": {},
   "outputs": [],
   "source": [
    "q = tuple(a)# Convert a to some immutable type"
   ]
  },
  {
   "cell_type": "code",
   "execution_count": 29,
   "metadata": {},
   "outputs": [
    {
     "name": "stdout",
     "output_type": "stream",
     "text": [
      "Yeah, you can't change items of this data structure\n"
     ]
    }
   ],
   "source": [
    "try:\n",
    "    q[0] = 1\n",
    "except TypeError as e:\n",
    "    print(\"Yeah, you can't change items of this data structure\")\n",
    "else:\n",
    "    False, print(\"should be an error here\")"
   ]
  },
  {
   "cell_type": "markdown",
   "metadata": {},
   "source": [
    "# Copy/deepcopy"
   ]
  },
  {
   "cell_type": "code",
   "execution_count": 33,
   "metadata": {},
   "outputs": [
    {
     "name": "stdout",
     "output_type": "stream",
     "text": [
      "{'list': [1, 2, 3, 4, 5, 123], 'dict': {'a': 1, 'b': 2, 'c': 3, 'inner_list': []}, 'set': {1, 2, 3}}\n",
      "True\n",
      "True\n"
     ]
    }
   ],
   "source": [
    "import copy\n",
    "original = {\"list\": [1, 2, 3, 4, 5], \"dict\": {\"a\": 1, \"b\": 2, \"c\": 3, \"inner_list\": []}, \"set\": {1, 2, 3}}\n",
    "\n",
    "# assign it to the new var\n",
    "shallow_copied = copy.copy(original)\n",
    "\n",
    "# and add a new item to the list\n",
    "shallow_copied[\"list\"].append(123)\n",
    "\n",
    "# it change the original as well\n",
    "print(original)\n",
    "\n",
    "ref_copied = copy.copy(shallow_copied)  # copy here instead of None\n",
    "\n",
    "original[\"set\"] = {}\n",
    "print(ref_copied[\"set\"] == {1, 2, 3})\n",
    "\n",
    "deep_ref_copied = copy.deepcopy(ref_copied)  # deep copy here instead of None\n",
    "\n",
    "original[\"dict\"][\"inner_list\"].append(123)\n",
    "print(deep_ref_copied[\"dict\"][\"inner_list\"] == [])"
   ]
  },
  {
   "cell_type": "code",
   "execution_count": null,
   "metadata": {},
   "outputs": [],
   "source": []
  }
 ],
 "metadata": {
  "kernelspec": {
   "display_name": "Python 3 (ipykernel)",
   "language": "python",
   "name": "python3"
  },
  "language_info": {
   "codemirror_mode": {
    "name": "ipython",
    "version": 3
   },
   "file_extension": ".py",
   "mimetype": "text/x-python",
   "name": "python",
   "nbconvert_exporter": "python",
   "pygments_lexer": "ipython3",
   "version": "3.11.4"
  }
 },
 "nbformat": 4,
 "nbformat_minor": 4
}
